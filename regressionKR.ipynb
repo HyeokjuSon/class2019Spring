{
 "cells": [
  {
   "cell_type": "code",
   "execution_count": 1,
   "metadata": {},
   "outputs": [],
   "source": [
    "import tensorflow as tf\n",
    "import pandas as pd\n",
    "import numpy as np\n",
    "import matplotlib.pyplot as plt"
   ]
  },
  {
   "cell_type": "code",
   "execution_count": 14,
   "metadata": {},
   "outputs": [
    {
     "data": {
      "text/plain": [
       "[<matplotlib.lines.Line2D at 0x27b9d26b710>]"
      ]
     },
     "execution_count": 14,
     "metadata": {},
     "output_type": "execute_result"
    },
    {
     "data": {
      "image/png": "[encoded data removed]",
      "text/plain": [
       "<Figure size 432x288 with 1 Axes>"
      ]
     },
     "metadata": {
      "needs_background": "light"
     },
     "output_type": "display_data"
    }
   ],
   "source": [
    "# Training Data\n",
    "pd.read_csv('regression.csv', delimiter = ',')\n",
    "X = data['X'].tolist()\n",
    "Y = data['Y'].tolist()\n",
    "x_train = np.asarray(X)\n",
    "y_train = np.asarray(Y)"
   ]
  },
  {
   "cell_type": "code",
   "execution_count": 9,
   "metadata": {},
   "outputs": [],
   "source": [
    "model = tf.keras.models.Sequential([\n",
    "    tf.keras.layers.Dense(1, input_shape=[1])    \n",
    "])\n",
    "optimizer = tf.keras.optimizers.RMSprop(0.01)\n",
    "model.compile(optimizer=optimizer,\n",
    "              loss='mse',\n",
    "              metrics=['mse']) "
   ]
  },
  {
   "cell_type": "code",
   "execution_count": 15,
   "metadata": {},
   "outputs": [
    {
     "name": "stdout",
     "output_type": "stream",
     "text": [
      "Epoch 1/100\n",
      "17/17 [==============================] - 0s 12ms/sample - loss: 23.3776 - mean_squared_error: 23.3776\n",
      "Epoch 2/100\n",
      "17/17 [==============================] - 0s 0s/sample - loss: 21.1196 - mean_squared_error: 21.1196\n",
      "Epoch 3/100\n",
      "17/17 [==============================] - 0s 235us/sample - loss: 19.5914 - mean_squared_error: 19.5914\n",
      "Epoch 4/100\n",
      "17/17 [==============================] - 0s 0s/sample - loss: 18.3752 - mean_squared_error: 18.3752\n",
      "Epoch 5/100\n",
      "17/17 [==============================] - 0s 234us/sample - loss: 17.3410 - mean_squared_error: 17.3410\n",
      "Epoch 6/100\n",
      "17/17 [==============================] - 0s 235us/sample - loss: 16.4291 - mean_squared_error: 16.4291\n",
      "Epoch 7/100\n",
      "17/17 [==============================] - 0s 0s/sample - loss: 15.6068 - mean_squared_error: 15.6068\n",
      "Epoch 8/100\n",
      "17/17 [==============================] - 0s 235us/sample - loss: 14.8535 - mean_squared_error: 14.8535\n",
      "Epoch 9/100\n",
      "17/17 [==============================] - 0s 235us/sample - loss: 14.1556 - mean_squared_error: 14.1556\n",
      "Epoch 10/100\n",
      "17/17 [==============================] - 0s 235us/sample - loss: 13.5037 - mean_squared_error: 13.5037\n",
      "Epoch 11/100\n",
      "17/17 [==============================] - 0s 235us/sample - loss: 12.8906 - mean_squared_error: 12.8906\n",
      "Epoch 12/100\n",
      "17/17 [==============================] - 0s 0s/sample - loss: 12.3111 - mean_squared_error: 12.3111\n",
      "Epoch 13/100\n",
      "17/17 [==============================] - 0s 0s/sample - loss: 11.7612 - mean_squared_error: 11.7612\n",
      "Epoch 14/100\n",
      "17/17 [==============================] - 0s 0s/sample - loss: 11.2374 - mean_squared_error: 11.2374\n",
      "Epoch 15/100\n",
      "17/17 [==============================] - 0s 0s/sample - loss: 10.7374 - mean_squared_error: 10.7374\n",
      "Epoch 16/100\n",
      "17/17 [==============================] - 0s 235us/sample - loss: 10.2588 - mean_squared_error: 10.2588\n",
      "Epoch 17/100\n",
      "17/17 [==============================] - 0s 0s/sample - loss: 9.7999 - mean_squared_error: 9.7999\n",
      "Epoch 18/100\n",
      "17/17 [==============================] - 0s 0s/sample - loss: 9.3593 - mean_squared_error: 9.3593\n",
      "Epoch 19/100\n",
      "17/17 [==============================] - 0s 235us/sample - loss: 8.9357 - mean_squared_error: 8.9357\n",
      "Epoch 20/100\n",
      "17/17 [==============================] - 0s 0s/sample - loss: 8.5281 - mean_squared_error: 8.5281\n",
      "Epoch 21/100\n",
      "17/17 [==============================] - 0s 236us/sample - loss: 8.1355 - mean_squared_error: 8.1355\n",
      "Epoch 22/100\n",
      "17/17 [==============================] - 0s 235us/sample - loss: 7.7571 - mean_squared_error: 7.7571\n",
      "Epoch 23/100\n",
      "17/17 [==============================] - 0s 0s/sample - loss: 7.3923 - mean_squared_error: 7.3923\n",
      "Epoch 24/100\n",
      "17/17 [==============================] - 0s 236us/sample - loss: 7.0405 - mean_squared_error: 7.0405\n",
      "Epoch 25/100\n",
      "17/17 [==============================] - 0s 0s/sample - loss: 6.7011 - mean_squared_error: 6.7011\n",
      "Epoch 26/100\n",
      "17/17 [==============================] - 0s 0s/sample - loss: 6.3736 - mean_squared_error: 6.3736\n",
      "Epoch 27/100\n",
      "17/17 [==============================] - 0s 0s/sample - loss: 6.0577 - mean_squared_error: 6.0577\n",
      "Epoch 28/100\n",
      "17/17 [==============================] - 0s 235us/sample - loss: 5.7529 - mean_squared_error: 5.7529\n",
      "Epoch 29/100\n",
      "17/17 [==============================] - 0s 235us/sample - loss: 5.4590 - mean_squared_error: 5.4590\n",
      "Epoch 30/100\n",
      "17/17 [==============================] - 0s 235us/sample - loss: 5.1755 - mean_squared_error: 5.1755\n",
      "Epoch 31/100\n",
      "17/17 [==============================] - 0s 235us/sample - loss: 4.9023 - mean_squared_error: 4.9023\n",
      "Epoch 32/100\n",
      "17/17 [==============================] - 0s 235us/sample - loss: 4.6391 - mean_squared_error: 4.6391\n",
      "Epoch 33/100\n",
      "17/17 [==============================] - 0s 235us/sample - loss: 4.3856 - mean_squared_error: 4.3856\n",
      "Epoch 34/100\n",
      "17/17 [==============================] - 0s 235us/sample - loss: 4.1417 - mean_squared_error: 4.1417\n",
      "Epoch 35/100\n",
      "17/17 [==============================] - 0s 235us/sample - loss: 3.9070 - mean_squared_error: 3.9070\n",
      "Epoch 36/100\n",
      "17/17 [==============================] - 0s 235us/sample - loss: 3.6814 - mean_squared_error: 3.6814\n",
      "Epoch 37/100\n",
      "17/17 [==============================] - 0s 235us/sample - loss: 3.4648 - mean_squared_error: 3.4648\n",
      "Epoch 38/100\n",
      "17/17 [==============================] - 0s 0s/sample - loss: 3.2569 - mean_squared_error: 3.2569\n",
      "Epoch 39/100\n",
      "17/17 [==============================] - 0s 0s/sample - loss: 3.0576 - mean_squared_error: 3.0576\n",
      "Epoch 40/100\n",
      "17/17 [==============================] - 0s 0s/sample - loss: 2.8667 - mean_squared_error: 2.8667\n",
      "Epoch 41/100\n",
      "17/17 [==============================] - 0s 235us/sample - loss: 2.6841 - mean_squared_error: 2.6841\n",
      "Epoch 42/100\n",
      "17/17 [==============================] - 0s 0s/sample - loss: 2.5095 - mean_squared_error: 2.5095\n",
      "Epoch 43/100\n",
      "17/17 [==============================] - 0s 235us/sample - loss: 2.3429 - mean_squared_error: 2.3429\n",
      "Epoch 44/100\n",
      "17/17 [==============================] - 0s 235us/sample - loss: 2.1841 - mean_squared_error: 2.1841\n",
      "Epoch 45/100\n",
      "17/17 [==============================] - 0s 235us/sample - loss: 2.0330 - mean_squared_error: 2.0330\n",
      "Epoch 46/100\n",
      "17/17 [==============================] - 0s 0s/sample - loss: 1.8893 - mean_squared_error: 1.8893\n",
      "Epoch 47/100\n",
      "17/17 [==============================] - 0s 0s/sample - loss: 1.7529 - mean_squared_error: 1.7529\n",
      "Epoch 48/100\n",
      "17/17 [==============================] - 0s 0s/sample - loss: 1.6237 - mean_squared_error: 1.6237\n",
      "Epoch 49/100\n",
      "17/17 [==============================] - 0s 0s/sample - loss: 1.5016 - mean_squared_error: 1.5016\n",
      "Epoch 50/100\n",
      "17/17 [==============================] - 0s 0s/sample - loss: 1.3863 - mean_squared_error: 1.3863\n",
      "Epoch 51/100\n",
      "17/17 [==============================] - 0s 0s/sample - loss: 1.2777 - mean_squared_error: 1.2777\n",
      "Epoch 52/100\n",
      "17/17 [==============================] - 0s 0s/sample - loss: 1.1757 - mean_squared_error: 1.1757\n",
      "Epoch 53/100\n",
      "17/17 [==============================] - 0s 0s/sample - loss: 1.0800 - mean_squared_error: 1.0800\n",
      "Epoch 54/100\n",
      "17/17 [==============================] - 0s 0s/sample - loss: 0.9905 - mean_squared_error: 0.9905\n",
      "Epoch 55/100\n",
      "17/17 [==============================] - 0s 0s/sample - loss: 0.9070 - mean_squared_error: 0.9070\n",
      "Epoch 56/100\n",
      "17/17 [==============================] - 0s 0s/sample - loss: 0.8294 - mean_squared_error: 0.8294\n",
      "Epoch 57/100\n",
      "17/17 [==============================] - 0s 0s/sample - loss: 0.7574 - mean_squared_error: 0.7574\n",
      "Epoch 58/100\n",
      "17/17 [==============================] - 0s 236us/sample - loss: 0.6909 - mean_squared_error: 0.6909\n",
      "Epoch 59/100\n",
      "17/17 [==============================] - 0s 0s/sample - loss: 0.6296 - mean_squared_error: 0.6296\n",
      "Epoch 60/100\n",
      "17/17 [==============================] - 0s 0s/sample - loss: 0.5734 - mean_squared_error: 0.5734\n",
      "Epoch 61/100\n",
      "17/17 [==============================] - 0s 0s/sample - loss: 0.5220 - mean_squared_error: 0.5220\n",
      "Epoch 62/100\n",
      "17/17 [==============================] - 0s 235us/sample - loss: 0.4753 - mean_squared_error: 0.4753\n",
      "Epoch 63/100\n",
      "17/17 [==============================] - 0s 235us/sample - loss: 0.4329 - mean_squared_error: 0.4329\n",
      "Epoch 64/100\n",
      "17/17 [==============================] - 0s 235us/sample - loss: 0.3948 - mean_squared_error: 0.3948\n",
      "Epoch 65/100\n",
      "17/17 [==============================] - 0s 236us/sample - loss: 0.3606 - mean_squared_error: 0.3606\n",
      "Epoch 66/100\n",
      "17/17 [==============================] - 0s 235us/sample - loss: 0.3301 - mean_squared_error: 0.3301\n",
      "Epoch 67/100\n",
      "17/17 [==============================] - 0s 235us/sample - loss: 0.3031 - mean_squared_error: 0.3031\n",
      "Epoch 68/100\n",
      "17/17 [==============================] - 0s 235us/sample - loss: 0.2793 - mean_squared_error: 0.2793\n",
      "Epoch 69/100\n",
      "17/17 [==============================] - 0s 235us/sample - loss: 0.2586 - mean_squared_error: 0.2586\n",
      "Epoch 70/100\n",
      "17/17 [==============================] - 0s 235us/sample - loss: 0.2406 - mean_squared_error: 0.2406\n",
      "Epoch 71/100\n",
      "17/17 [==============================] - 0s 0s/sample - loss: 0.2252 - mean_squared_error: 0.2252\n",
      "Epoch 72/100\n",
      "17/17 [==============================] - 0s 0s/sample - loss: 0.2120 - mean_squared_error: 0.2120\n",
      "Epoch 73/100\n",
      "17/17 [==============================] - 0s 0s/sample - loss: 0.2009 - mean_squared_error: 0.2009\n"
     ]
    },
    {
     "name": "stdout",
     "output_type": "stream",
     "text": [
      "Epoch 74/100\n",
      "17/17 [==============================] - 0s 235us/sample - loss: 0.1916 - mean_squared_error: 0.1916\n",
      "Epoch 75/100\n",
      "17/17 [==============================] - 0s 0s/sample - loss: 0.1840 - mean_squared_error: 0.1840\n",
      "Epoch 76/100\n",
      "17/17 [==============================] - 0s 235us/sample - loss: 0.1777 - mean_squared_error: 0.1777\n",
      "Epoch 77/100\n",
      "17/17 [==============================] - 0s 235us/sample - loss: 0.1727 - mean_squared_error: 0.1727\n",
      "Epoch 78/100\n",
      "17/17 [==============================] - 0s 235us/sample - loss: 0.1687 - mean_squared_error: 0.1687\n",
      "Epoch 79/100\n",
      "17/17 [==============================] - 0s 235us/sample - loss: 0.1656 - mean_squared_error: 0.1656\n",
      "Epoch 80/100\n",
      "17/17 [==============================] - 0s 235us/sample - loss: 0.1632 - mean_squared_error: 0.1632\n",
      "Epoch 81/100\n",
      "17/17 [==============================] - 0s 0s/sample - loss: 0.1614 - mean_squared_error: 0.1614\n",
      "Epoch 82/100\n",
      "17/17 [==============================] - 0s 0s/sample - loss: 0.1600 - mean_squared_error: 0.1600\n",
      "Epoch 83/100\n",
      "17/17 [==============================] - 0s 0s/sample - loss: 0.1590 - mean_squared_error: 0.1590\n",
      "Epoch 84/100\n",
      "17/17 [==============================] - 0s 236us/sample - loss: 0.1583 - mean_squared_error: 0.1583\n",
      "Epoch 85/100\n",
      "17/17 [==============================] - 0s 0s/sample - loss: 0.1578 - mean_squared_error: 0.1578\n",
      "Epoch 86/100\n",
      "17/17 [==============================] - 0s 0s/sample - loss: 0.1575 - mean_squared_error: 0.1575\n",
      "Epoch 87/100\n",
      "17/17 [==============================] - 0s 235us/sample - loss: 0.1573 - mean_squared_error: 0.1573\n",
      "Epoch 88/100\n",
      "17/17 [==============================] - 0s 0s/sample - loss: 0.1571 - mean_squared_error: 0.1571\n",
      "Epoch 89/100\n",
      "17/17 [==============================] - 0s 235us/sample - loss: 0.1570 - mean_squared_error: 0.1570\n",
      "Epoch 90/100\n",
      "17/17 [==============================] - 0s 0s/sample - loss: 0.1569 - mean_squared_error: 0.1569\n",
      "Epoch 91/100\n",
      "17/17 [==============================] - 0s 470us/sample - loss: 0.1569 - mean_squared_error: 0.1569\n",
      "Epoch 92/100\n",
      "17/17 [==============================] - 0s 0s/sample - loss: 0.1568 - mean_squared_error: 0.1568\n",
      "Epoch 93/100\n",
      "17/17 [==============================] - 0s 0s/sample - loss: 0.1568 - mean_squared_error: 0.1568\n",
      "Epoch 94/100\n",
      "17/17 [==============================] - 0s 235us/sample - loss: 0.1568 - mean_squared_error: 0.1568\n",
      "Epoch 95/100\n",
      "17/17 [==============================] - 0s 0s/sample - loss: 0.1567 - mean_squared_error: 0.1567\n",
      "Epoch 96/100\n",
      "17/17 [==============================] - 0s 235us/sample - loss: 0.1567 - mean_squared_error: 0.1567\n",
      "Epoch 97/100\n",
      "17/17 [==============================] - 0s 235us/sample - loss: 0.1567 - mean_squared_error: 0.1567\n",
      "Epoch 98/100\n",
      "17/17 [==============================] - 0s 235us/sample - loss: 0.1566 - mean_squared_error: 0.1566\n",
      "Epoch 99/100\n",
      "17/17 [==============================] - 0s 235us/sample - loss: 0.1566 - mean_squared_error: 0.1566\n",
      "Epoch 100/100\n",
      "17/17 [==============================] - 0s 0s/sample - loss: 0.1566 - mean_squared_error: 0.1566\n"
     ]
    },
    {
     "data": {
      "text/plain": [
       "<tensorflow.python.keras.callbacks.History at 0x27b9d2ac748>"
      ]
     },
     "execution_count": 15,
     "metadata": {},
     "output_type": "execute_result"
    }
   ],
   "source": [
    "model.fit(x_train, y_train, epochs=100)"
   ]
  },
  {
   "cell_type": "code",
   "execution_count": 6,
   "metadata": {},
   "outputs": [],
   "source": [
    "x = np.arange(2,11,1)\n",
    "y = model.predict(x)"
   ]
  },
  {
   "cell_type": "code",
   "execution_count": 16,
   "metadata": {},
   "outputs": [
    {
     "data": {
      "text/plain": [
       "[<matplotlib.lines.Line2D at 0x27b9e4024a8>]"
      ]
     },
     "execution_count": 16,
     "metadata": {},
     "output_type": "execute_result"
    },
    {
     "data": {
      "image/png": "[encoded data removed]",
      "text/plain": [
       "<Figure size 432x288 with 1 Axes>"
      ]
     },
     "metadata": {
      "needs_background": "light"
     },
     "output_type": "display_data"
    }
   ],
   "source": [
    "plt.plot(x,y, 'ko')"
   ]
  },
  {
   "cell_type": "code",
   "execution_count": null,
   "metadata": {},
   "outputs": [],
   "source": [
    "weight = model.layers[0].get_weights()\n",
    "pritn(weights)"
   ]
  },
  {
   "cell_type": "code",
   "execution_count": null,
   "metadata": {},
   "outputs": [],
   "source": []
  }
 ],
 "metadata": {
  "kernelspec": {
   "display_name": "Python 3",
   "language": "python",
   "name": "python3"
  },
  "language_info": {
   "codemirror_mode": {
    "name": "ipython",
    "version": 3
   },
   "file_extension": ".py",
   "mimetype": "text/x-python",
   "name": "python",
   "nbconvert_exporter": "python",
   "pygments_lexer": "ipython3",
   "version": "3.7.1"
  }
 },
 "nbformat": 4,
 "nbformat_minor": 1
}
