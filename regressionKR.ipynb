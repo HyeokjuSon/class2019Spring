{
 "cells": [
  {
   "cell_type": "code",
   "execution_count": 8,
   "metadata": {},
   "outputs": [],
   "source": [
    "import tensorflow as tf\n",
    "import pandas as pd\n",
    "import numpy as np\n",
    "import matplotlib.pyplot as plt"
   ]
  },
  {
   "cell_type": "code",
   "execution_count": 9,
   "metadata": {
    "scrolled": true
   },
   "outputs": [
    {
     "data": {
      "text/html": [
       "<div>\n",
       "<style scoped>\n",
       "    .dataframe tbody tr th:only-of-type {\n",
       "        vertical-align: middle;\n",
       "    }\n",
       "\n",
       "    .dataframe tbody tr th {\n",
       "        vertical-align: top;\n",
       "    }\n",
       "\n",
       "    .dataframe thead th {\n",
       "        text-align: right;\n",
       "    }\n",
       "</style>\n",
       "<table border=\"1\" class=\"dataframe\">\n",
       "  <thead>\n",
       "    <tr style=\"text-align: right;\">\n",
       "      <th></th>\n",
       "      <th>X</th>\n",
       "      <th>Y</th>\n",
       "    </tr>\n",
       "  </thead>\n",
       "  <tbody>\n",
       "    <tr>\n",
       "      <th>0</th>\n",
       "      <td>3.300</td>\n",
       "      <td>1.700</td>\n",
       "    </tr>\n",
       "    <tr>\n",
       "      <th>1</th>\n",
       "      <td>4.400</td>\n",
       "      <td>2.760</td>\n",
       "    </tr>\n",
       "    <tr>\n",
       "      <th>2</th>\n",
       "      <td>5.500</td>\n",
       "      <td>2.090</td>\n",
       "    </tr>\n",
       "    <tr>\n",
       "      <th>3</th>\n",
       "      <td>6.710</td>\n",
       "      <td>3.190</td>\n",
       "    </tr>\n",
       "    <tr>\n",
       "      <th>4</th>\n",
       "      <td>6.930</td>\n",
       "      <td>1.694</td>\n",
       "    </tr>\n",
       "    <tr>\n",
       "      <th>5</th>\n",
       "      <td>4.168</td>\n",
       "      <td>1.573</td>\n",
       "    </tr>\n",
       "    <tr>\n",
       "      <th>6</th>\n",
       "      <td>9.779</td>\n",
       "      <td>3.366</td>\n",
       "    </tr>\n",
       "    <tr>\n",
       "      <th>7</th>\n",
       "      <td>6.182</td>\n",
       "      <td>2.596</td>\n",
       "    </tr>\n",
       "    <tr>\n",
       "      <th>8</th>\n",
       "      <td>7.590</td>\n",
       "      <td>2.530</td>\n",
       "    </tr>\n",
       "    <tr>\n",
       "      <th>9</th>\n",
       "      <td>2.167</td>\n",
       "      <td>1.221</td>\n",
       "    </tr>\n",
       "    <tr>\n",
       "      <th>10</th>\n",
       "      <td>7.042</td>\n",
       "      <td>2.827</td>\n",
       "    </tr>\n",
       "    <tr>\n",
       "      <th>11</th>\n",
       "      <td>10.791</td>\n",
       "      <td>3.465</td>\n",
       "    </tr>\n",
       "    <tr>\n",
       "      <th>12</th>\n",
       "      <td>5.313</td>\n",
       "      <td>1.650</td>\n",
       "    </tr>\n",
       "    <tr>\n",
       "      <th>13</th>\n",
       "      <td>7.997</td>\n",
       "      <td>2.904</td>\n",
       "    </tr>\n",
       "    <tr>\n",
       "      <th>14</th>\n",
       "      <td>5.654</td>\n",
       "      <td>2.420</td>\n",
       "    </tr>\n",
       "    <tr>\n",
       "      <th>15</th>\n",
       "      <td>9.270</td>\n",
       "      <td>2.940</td>\n",
       "    </tr>\n",
       "    <tr>\n",
       "      <th>16</th>\n",
       "      <td>3.100</td>\n",
       "      <td>1.300</td>\n",
       "    </tr>\n",
       "  </tbody>\n",
       "</table>\n",
       "</div>"
      ],
      "text/plain": [
       "         X      Y\n",
       "0    3.300  1.700\n",
       "1    4.400  2.760\n",
       "2    5.500  2.090\n",
       "3    6.710  3.190\n",
       "4    6.930  1.694\n",
       "5    4.168  1.573\n",
       "6    9.779  3.366\n",
       "7    6.182  2.596\n",
       "8    7.590  2.530\n",
       "9    2.167  1.221\n",
       "10   7.042  2.827\n",
       "11  10.791  3.465\n",
       "12   5.313  1.650\n",
       "13   7.997  2.904\n",
       "14   5.654  2.420\n",
       "15   9.270  2.940\n",
       "16   3.100  1.300"
      ]
     },
     "execution_count": 9,
     "metadata": {},
     "output_type": "execute_result"
    }
   ],
   "source": [
    "# Training Data\n",
    "data=pd.read_csv('regression.csv', delimiter = ',')\n",
    "data #각 data 값을 산정, 표로 보여줌"
   ]
  },
  {
   "cell_type": "code",
   "execution_count": 10,
   "metadata": {},
   "outputs": [],
   "source": [
    "X = data['X'].tolist()\n",
    "Y = data['Y'].tolist()\n",
    "x_train = np.asarray(X)\n",
    "y_train = np.asarray(Y)"
   ]
  },
  {
   "cell_type": "markdown",
   "metadata": {},
   "source": [
    "regression : linear로 가능함. 비례적 수치를 보여줄 때 적합하다\n",
    "classification : non linear(signoid, Tahn, relu, softmax등) True or False를 분류하는데 적합."
   ]
  },
  {
   "cell_type": "code",
   "execution_count": 11,
   "metadata": {},
   "outputs": [],
   "source": [
    "model = tf.keras.models.Sequential([\n",
    "    tf.keras.layers.Dense(1, input_shape=[1])    \n",
    "])\n",
    "optimizer = tf.keras.optimizers.RMSprop(0.01)\n",
    "model.compile(optimizer=optimizer,\n",
    "              loss='mse',\n",
    "              metrics=['mse']) "
   ]
  },
  {
   "cell_type": "code",
   "execution_count": 7,
   "metadata": {},
   "outputs": [
    {
     "name": "stdout",
     "output_type": "stream",
     "text": [
      "WARNING:tensorflow:From C:\\anaconda37\\lib\\site-packages\\tensorflow\\python\\ops\\math_ops.py:3066: to_int32 (from tensorflow.python.ops.math_ops) is deprecated and will be removed in a future version.\n",
      "Instructions for updating:\n",
      "Use tf.cast instead.\n",
      "Epoch 1/100\n",
      "17/17 [==============================] - 0s 8ms/sample - loss: 6.1286 - mean_squared_error: 6.1286\n",
      "Epoch 2/100\n",
      "17/17 [==============================] - 0s 0s/sample - loss: 5.0270 - mean_squared_error: 5.0270\n",
      "Epoch 3/100\n",
      "17/17 [==============================] - 0s 118us/sample - loss: 4.3357 - mean_squared_error: 4.3357\n",
      "Epoch 4/100\n",
      "17/17 [==============================] - 0s 117us/sample - loss: 3.8165 - mean_squared_error: 3.8165\n",
      "Epoch 5/100\n",
      "17/17 [==============================] - 0s 177us/sample - loss: 3.3974 - mean_squared_error: 3.3974\n",
      "Epoch 6/100\n",
      "17/17 [==============================] - 0s 176us/sample - loss: 3.0455 - mean_squared_error: 3.0455\n",
      "Epoch 7/100\n",
      "17/17 [==============================] - 0s 294us/sample - loss: 2.7428 - mean_squared_error: 2.7428\n",
      "Epoch 8/100\n",
      "17/17 [==============================] - 0s 118us/sample - loss: 2.4782 - mean_squared_error: 2.4782\n",
      "Epoch 9/100\n",
      "17/17 [==============================] - 0s 176us/sample - loss: 2.2444 - mean_squared_error: 2.2444\n",
      "Epoch 10/100\n",
      "17/17 [==============================] - 0s 176us/sample - loss: 2.0360 - mean_squared_error: 2.0360\n",
      "Epoch 11/100\n",
      "17/17 [==============================] - 0s 59us/sample - loss: 1.8493 - mean_squared_error: 1.8493\n",
      "Epoch 12/100\n",
      "17/17 [==============================] - 0s 118us/sample - loss: 1.6813 - mean_squared_error: 1.6813\n",
      "Epoch 13/100\n",
      "17/17 [==============================] - 0s 118us/sample - loss: 1.5297 - mean_squared_error: 1.5297\n",
      "Epoch 14/100\n",
      "17/17 [==============================] - 0s 176us/sample - loss: 1.3928 - mean_squared_error: 1.3928\n",
      "Epoch 15/100\n",
      "17/17 [==============================] - 0s 59us/sample - loss: 1.2689 - mean_squared_error: 1.2689\n",
      "Epoch 16/100\n",
      "17/17 [==============================] - 0s 118us/sample - loss: 1.1568 - mean_squared_error: 1.1568\n",
      "Epoch 17/100\n",
      "17/17 [==============================] - 0s 118us/sample - loss: 1.0554 - mean_squared_error: 1.0554\n",
      "Epoch 18/100\n",
      "17/17 [==============================] - 0s 59us/sample - loss: 0.9638 - mean_squared_error: 0.9638\n",
      "Epoch 19/100\n",
      "17/17 [==============================] - 0s 117us/sample - loss: 0.8812 - mean_squared_error: 0.8812\n",
      "Epoch 20/100\n",
      "17/17 [==============================] - 0s 118us/sample - loss: 0.8068 - mean_squared_error: 0.8068\n",
      "Epoch 21/100\n",
      "17/17 [==============================] - 0s 294us/sample - loss: 0.7401 - mean_squared_error: 0.7401\n",
      "Epoch 22/100\n",
      "17/17 [==============================] - 0s 59us/sample - loss: 0.6803 - mean_squared_error: 0.6803\n",
      "Epoch 23/100\n",
      "17/17 [==============================] - 0s 177us/sample - loss: 0.6270 - mean_squared_error: 0.6270\n",
      "Epoch 24/100\n",
      "17/17 [==============================] - 0s 59us/sample - loss: 0.5797 - mean_squared_error: 0.5797\n",
      "Epoch 25/100\n",
      "17/17 [==============================] - 0s 117us/sample - loss: 0.5378 - mean_squared_error: 0.5378\n",
      "Epoch 26/100\n",
      "17/17 [==============================] - 0s 117us/sample - loss: 0.5009 - mean_squared_error: 0.5009\n",
      "Epoch 27/100\n",
      "17/17 [==============================] - 0s 236us/sample - loss: 0.4687 - mean_squared_error: 0.4687\n",
      "Epoch 28/100\n",
      "17/17 [==============================] - 0s 235us/sample - loss: 0.4406 - mean_squared_error: 0.4406\n",
      "Epoch 29/100\n",
      "17/17 [==============================] - 0s 176us/sample - loss: 0.4163 - mean_squared_error: 0.4163\n",
      "Epoch 30/100\n",
      "17/17 [==============================] - 0s 118us/sample - loss: 0.3954 - mean_squared_error: 0.3954\n",
      "Epoch 31/100\n",
      "17/17 [==============================] - 0s 59us/sample - loss: 0.3776 - mean_squared_error: 0.3776\n",
      "Epoch 32/100\n",
      "17/17 [==============================] - 0s 118us/sample - loss: 0.3625 - mean_squared_error: 0.3625\n",
      "Epoch 33/100\n",
      "17/17 [==============================] - 0s 118us/sample - loss: 0.3499 - mean_squared_error: 0.3499\n",
      "Epoch 34/100\n",
      "17/17 [==============================] - 0s 118us/sample - loss: 0.3393 - mean_squared_error: 0.3393\n",
      "Epoch 35/100\n",
      "17/17 [==============================] - 0s 118us/sample - loss: 0.3306 - mean_squared_error: 0.3306\n",
      "Epoch 36/100\n",
      "17/17 [==============================] - 0s 118us/sample - loss: 0.3234 - mean_squared_error: 0.3234\n",
      "Epoch 37/100\n",
      "17/17 [==============================] - 0s 59us/sample - loss: 0.3176 - mean_squared_error: 0.3176\n",
      "Epoch 38/100\n",
      "17/17 [==============================] - 0s 59us/sample - loss: 0.3128 - mean_squared_error: 0.3128\n",
      "Epoch 39/100\n",
      "17/17 [==============================] - 0s 117us/sample - loss: 0.3090 - mean_squared_error: 0.3090\n",
      "Epoch 40/100\n",
      "17/17 [==============================] - 0s 118us/sample - loss: 0.3059 - mean_squared_error: 0.3059\n",
      "Epoch 41/100\n",
      "17/17 [==============================] - 0s 59us/sample - loss: 0.3033 - mean_squared_error: 0.3033\n",
      "Epoch 42/100\n",
      "17/17 [==============================] - 0s 177us/sample - loss: 0.3011 - mean_squared_error: 0.3011\n",
      "Epoch 43/100\n",
      "17/17 [==============================] - 0s 176us/sample - loss: 0.2993 - mean_squared_error: 0.2993\n",
      "Epoch 44/100\n",
      "17/17 [==============================] - 0s 59us/sample - loss: 0.2977 - mean_squared_error: 0.2977\n",
      "Epoch 45/100\n",
      "17/17 [==============================] - 0s 118us/sample - loss: 0.2963 - mean_squared_error: 0.2963\n",
      "Epoch 46/100\n",
      "17/17 [==============================] - 0s 235us/sample - loss: 0.2950 - mean_squared_error: 0.2950\n",
      "Epoch 47/100\n",
      "17/17 [==============================] - 0s 118us/sample - loss: 0.2937 - mean_squared_error: 0.2937\n",
      "Epoch 48/100\n",
      "17/17 [==============================] - 0s 177us/sample - loss: 0.2924 - mean_squared_error: 0.2924\n",
      "Epoch 49/100\n",
      "17/17 [==============================] - 0s 235us/sample - loss: 0.2912 - mean_squared_error: 0.2912\n",
      "Epoch 50/100\n",
      "17/17 [==============================] - 0s 59us/sample - loss: 0.2899 - mean_squared_error: 0.2899\n",
      "Epoch 51/100\n",
      "17/17 [==============================] - 0s 118us/sample - loss: 0.2886 - mean_squared_error: 0.2886\n",
      "Epoch 52/100\n",
      "17/17 [==============================] - 0s 118us/sample - loss: 0.2873 - mean_squared_error: 0.2873\n",
      "Epoch 53/100\n",
      "17/17 [==============================] - 0s 118us/sample - loss: 0.2859 - mean_squared_error: 0.2859\n",
      "Epoch 54/100\n",
      "17/17 [==============================] - 0s 294us/sample - loss: 0.2845 - mean_squared_error: 0.2845\n",
      "Epoch 55/100\n",
      "17/17 [==============================] - 0s 177us/sample - loss: 0.2830 - mean_squared_error: 0.2830\n",
      "Epoch 56/100\n",
      "17/17 [==============================] - 0s 59us/sample - loss: 0.2816 - mean_squared_error: 0.2816\n",
      "Epoch 57/100\n",
      "17/17 [==============================] - 0s 117us/sample - loss: 0.2800 - mean_squared_error: 0.2800\n",
      "Epoch 58/100\n",
      "17/17 [==============================] - 0s 118us/sample - loss: 0.2785 - mean_squared_error: 0.2785\n",
      "Epoch 59/100\n",
      "17/17 [==============================] - 0s 118us/sample - loss: 0.2769 - mean_squared_error: 0.2769\n",
      "Epoch 60/100\n",
      "17/17 [==============================] - 0s 117us/sample - loss: 0.2753 - mean_squared_error: 0.2753\n",
      "Epoch 61/100\n",
      "17/17 [==============================] - 0s 59us/sample - loss: 0.2736 - mean_squared_error: 0.2736\n",
      "Epoch 62/100\n",
      "17/17 [==============================] - 0s 118us/sample - loss: 0.2720 - mean_squared_error: 0.2720\n",
      "Epoch 63/100\n",
      "17/17 [==============================] - 0s 118us/sample - loss: 0.2702 - mean_squared_error: 0.2702\n",
      "Epoch 64/100\n",
      "17/17 [==============================] - 0s 59us/sample - loss: 0.2685 - mean_squared_error: 0.2685\n",
      "Epoch 65/100\n",
      "17/17 [==============================] - 0s 176us/sample - loss: 0.2668 - mean_squared_error: 0.2668\n",
      "Epoch 66/100\n",
      "17/17 [==============================] - 0s 59us/sample - loss: 0.2650 - mean_squared_error: 0.2650\n",
      "Epoch 67/100\n",
      "17/17 [==============================] - 0s 118us/sample - loss: 0.2632 - mean_squared_error: 0.2632\n",
      "Epoch 68/100\n",
      "17/17 [==============================] - 0s 58us/sample - loss: 0.2614 - mean_squared_error: 0.2614\n",
      "Epoch 69/100\n",
      "17/17 [==============================] - 0s 295us/sample - loss: 0.2596 - mean_squared_error: 0.2596\n",
      "Epoch 70/100\n",
      "17/17 [==============================] - 0s 176us/sample - loss: 0.2577 - mean_squared_error: 0.2577\n"
     ]
    },
    {
     "name": "stdout",
     "output_type": "stream",
     "text": [
      "Epoch 71/100\n",
      "17/17 [==============================] - 0s 235us/sample - loss: 0.2559 - mean_squared_error: 0.2559\n",
      "Epoch 72/100\n",
      "17/17 [==============================] - 0s 59us/sample - loss: 0.2540 - mean_squared_error: 0.2540\n",
      "Epoch 73/100\n",
      "17/17 [==============================] - 0s 59us/sample - loss: 0.2522 - mean_squared_error: 0.2522\n",
      "Epoch 74/100\n",
      "17/17 [==============================] - 0s 118us/sample - loss: 0.2503 - mean_squared_error: 0.2503\n",
      "Epoch 75/100\n",
      "17/17 [==============================] - 0s 118us/sample - loss: 0.2485 - mean_squared_error: 0.2485\n",
      "Epoch 76/100\n",
      "17/17 [==============================] - 0s 59us/sample - loss: 0.2466 - mean_squared_error: 0.2466\n",
      "Epoch 77/100\n",
      "17/17 [==============================] - 0s 118us/sample - loss: 0.2448 - mean_squared_error: 0.2448\n",
      "Epoch 78/100\n",
      "17/17 [==============================] - 0s 118us/sample - loss: 0.2430 - mean_squared_error: 0.2430\n",
      "Epoch 79/100\n",
      "17/17 [==============================] - 0s 176us/sample - loss: 0.2411 - mean_squared_error: 0.2411\n",
      "Epoch 80/100\n",
      "17/17 [==============================] - 0s 176us/sample - loss: 0.2393 - mean_squared_error: 0.2393\n",
      "Epoch 81/100\n",
      "17/17 [==============================] - 0s 235us/sample - loss: 0.2375 - mean_squared_error: 0.2375\n",
      "Epoch 82/100\n",
      "17/17 [==============================] - 0s 117us/sample - loss: 0.2357 - mean_squared_error: 0.2357\n",
      "Epoch 83/100\n",
      "17/17 [==============================] - 0s 59us/sample - loss: 0.2339 - mean_squared_error: 0.2339\n",
      "Epoch 84/100\n",
      "17/17 [==============================] - 0s 117us/sample - loss: 0.2322 - mean_squared_error: 0.2322\n",
      "Epoch 85/100\n",
      "17/17 [==============================] - 0s 59us/sample - loss: 0.2304 - mean_squared_error: 0.2304\n",
      "Epoch 86/100\n",
      "17/17 [==============================] - 0s 58us/sample - loss: 0.2287 - mean_squared_error: 0.2287\n",
      "Epoch 87/100\n",
      "17/17 [==============================] - 0s 118us/sample - loss: 0.2270 - mean_squared_error: 0.2270\n",
      "Epoch 88/100\n",
      "17/17 [==============================] - 0s 176us/sample - loss: 0.2253 - mean_squared_error: 0.2253\n",
      "Epoch 89/100\n",
      "17/17 [==============================] - 0s 118us/sample - loss: 0.2236 - mean_squared_error: 0.2236\n",
      "Epoch 90/100\n",
      "17/17 [==============================] - 0s 59us/sample - loss: 0.2219 - mean_squared_error: 0.2219\n",
      "Epoch 91/100\n",
      "17/17 [==============================] - 0s 118us/sample - loss: 0.2203 - mean_squared_error: 0.2203\n",
      "Epoch 92/100\n",
      "17/17 [==============================] - 0s 59us/sample - loss: 0.2187 - mean_squared_error: 0.2187\n",
      "Epoch 93/100\n",
      "17/17 [==============================] - 0s 59us/sample - loss: 0.2171 - mean_squared_error: 0.2171\n",
      "Epoch 94/100\n",
      "17/17 [==============================] - 0s 118us/sample - loss: 0.2155 - mean_squared_error: 0.2155\n",
      "Epoch 95/100\n",
      "17/17 [==============================] - 0s 176us/sample - loss: 0.2139 - mean_squared_error: 0.2139\n",
      "Epoch 96/100\n",
      "17/17 [==============================] - 0s 118us/sample - loss: 0.2124 - mean_squared_error: 0.2124\n",
      "Epoch 97/100\n",
      "17/17 [==============================] - 0s 59us/sample - loss: 0.2109 - mean_squared_error: 0.2109\n",
      "Epoch 98/100\n",
      "17/17 [==============================] - 0s 59us/sample - loss: 0.2094 - mean_squared_error: 0.2094\n",
      "Epoch 99/100\n",
      "17/17 [==============================] - 0s 59us/sample - loss: 0.2079 - mean_squared_error: 0.2079\n",
      "Epoch 100/100\n",
      "17/17 [==============================] - 0s 59us/sample - loss: 0.2064 - mean_squared_error: 0.2064\n"
     ]
    },
    {
     "data": {
      "text/plain": [
       "<tensorflow.python.keras.callbacks.History at 0x1fd299d34a8>"
      ]
     },
     "execution_count": 7,
     "metadata": {},
     "output_type": "execute_result"
    }
   ],
   "source": [
    "model.fit(x_train, y_train, epochs=100)"
   ]
  },
  {
   "cell_type": "code",
   "execution_count": 12,
   "metadata": {},
   "outputs": [
    {
     "data": {
      "text/plain": [
       "[<matplotlib.lines.Line2D at 0x1fd2a1a5390>]"
      ]
     },
     "execution_count": 12,
     "metadata": {},
     "output_type": "execute_result"
    },
    {
     "data": {
      "image/png": "[encoded data removed]",
      "text/plain": [
       "<Figure size 432x288 with 1 Axes>"
      ]
     },
     "metadata": {
      "needs_background": "light"
     },
     "output_type": "display_data"
    }
   ],
   "source": [
    "ata = pd.read_csv('regression.csv', delimiter = ',')\n",
    "X = data['X']\n",
    "Y = data['Y']\n",
    "plt.plot(X, Y, '.')"
   ]
  },
  {
   "cell_type": "code",
   "execution_count": 16,
   "metadata": {
    "scrolled": true
   },
   "outputs": [
    {
     "data": {
      "text/plain": [
       "[<matplotlib.lines.Line2D at 0x27b9e4024a8>]"
      ]
     },
     "execution_count": 16,
     "metadata": {},
     "output_type": "execute_result"
    },
    {
     "data": {
      "image/png": "[encoded data removed]",
      "text/plain": [
       "<Figure size 432x288 with 1 Axes>"
      ]
     },
     "metadata": {
      "needs_background": "light"
     },
     "output_type": "display_data"
    }
   ],
   "source": [
    "plt.plot(x,y, 'ko')"
   ]
  },
  {
   "cell_type": "code",
   "execution_count": null,
   "metadata": {},
   "outputs": [],
   "source": []
  }
 ],
 "metadata": {
  "kernelspec": {
   "display_name": "Python 3",
   "language": "python",
   "name": "python3"
  },
  "language_info": {
   "codemirror_mode": {
    "name": "ipython",
    "version": 3
   },
   "file_extension": ".py",
   "mimetype": "text/x-python",
   "name": "python",
   "nbconvert_exporter": "python",
   "pygments_lexer": "ipython3",
   "version": "3.7.1"
  }
 },
 "nbformat": 4,
 "nbformat_minor": 1
}
