{
 "cells": [
  {
   "cell_type": "code",
   "execution_count": 3,
   "metadata": {},
   "outputs": [],
   "source": [
    "import tensorflow as tf\n",
    "import pandas as pd\n",
    "import numpy as np\n",
    "import matplotlib.pyplot as plt\n",
    "\n",
    "# Parameters\n",
    "learning_rate = .1\n",
    "training_epochs = 1000\n",
    "display_step = 50"
   ]
  },
  {
   "cell_type": "code",
   "execution_count": 4,
   "metadata": {},
   "outputs": [],
   "source": [
    "# Training Data\n",
    "data = pd.read_csv('regression.csv', delimiter = ',')\n",
    "X = data['X'].tolist()\n",
    "Y = data['Y'].tolist()\n",
    "train_X = np.asarray(X)\n",
    "train_Y = np.asarray(Y)\n",
    "\n",
    "# train_X = numpy.asarray([3.3,4.4,5.5,6.71,6.93,4.168,9.779,6.182,7.59,2.167,\n",
    "#                          7.042,10.791,5.313,7.997,5.654,9.27,3.1])\n",
    "# train_Y = numpy.asarray([1.7,2.76,2.09,3.19,1.694,1.573,3.366,2.596,2.53,1.221,\n",
    "#                          2.827,3.465,1.65,2.904,2.42,2.94,1.3])\n",
    "n_samples = train_X.shape[0]"
   ]
  },
  {
   "cell_type": "code",
   "execution_count": 6,
   "metadata": {},
   "outputs": [
    {
     "name": "stdout",
     "output_type": "stream",
     "text": [
      "WARNING:tensorflow:From /Users/jookai/anaconda3/lib/python3.7/site-packages/tensorflow/python/framework/op_def_library.py:263: colocate_with (from tensorflow.python.framework.ops) is deprecated and will be removed in a future version.\n",
      "Instructions for updating:\n",
      "Colocations handled automatically by placer.\n",
      "WARNING:tensorflow:From /Users/jookai/anaconda3/lib/python3.7/site-packages/tensorflow/python/ops/math_ops.py:3066: to_int32 (from tensorflow.python.ops.math_ops) is deprecated and will be removed in a future version.\n",
      "Instructions for updating:\n",
      "Use tf.cast instead.\n"
     ]
    }
   ],
   "source": [
    "# Graphs\n",
    "\n",
    "# tf Graph Input\n",
    "X = tf.placeholder(\"float\")\n",
    "Y = tf.placeholder(\"float\")\n",
    "\n",
    "# Set model weights\n",
    "rng = np.random\n",
    "W = tf.Variable(rng.randn(), name=\"weight\")\n",
    "b = tf.Variable(rng.randn(), name=\"bias\")\n",
    "\n",
    "# Construct a linear model\n",
    "pred = tf.add(tf.multiply(X, W), b)\n",
    "\n",
    "# Mean squared error\n",
    "cost = tf.reduce_sum(tf.pow(pred-Y, 2))/(2*n_samples)\n",
    "\n",
    "# Gradient descent\n",
    "optimizer = tf.train.GradientDescentOptimizer(learning_rate).minimize(cost)\n",
    "\n",
    "# Initialize the variables (i.e. assign their default value)\n",
    "init = tf.global_variables_initializer()"
   ]
  },
  {
   "cell_type": "code",
   "execution_count": 7,
   "metadata": {},
   "outputs": [
    {
     "name": "stdout",
     "output_type": "stream",
     "text": [
      "Epoch: 0050 cost= 0.092413917 W= 0.28728512 b= 0.42180666\n",
      "Epoch: 0100 cost= 0.084668316 W= 0.26242045 b= 0.60979354\n",
      "Epoch: 0150 cost= 0.082400993 W= 0.24939564 b= 0.7082662\n",
      "Epoch: 0200 cost= 0.081704468 W= 0.24257265 b= 0.75985074\n",
      "Epoch: 0250 cost= 0.081474394 W= 0.23899874 b= 0.7868711\n",
      "Epoch: 0300 cost= 0.081390858 W= 0.23712657 b= 0.8010253\n",
      "Epoch: 0350 cost= 0.081357241 W= 0.23614581 b= 0.8084403\n",
      "Epoch: 0400 cost= 0.081342414 W= 0.23563214 b= 0.81232387\n",
      "Epoch: 0450 cost= 0.081335410 W= 0.23536298 b= 0.8143589\n",
      "Epoch: 0500 cost= 0.081331976 W= 0.2352221 b= 0.8154238\n",
      "Epoch: 0550 cost= 0.081330203 W= 0.2351482 b= 0.8159827\n",
      "Epoch: 0600 cost= 0.081329294 W= 0.23510972 b= 0.8162737\n",
      "Epoch: 0650 cost= 0.081328854 W= 0.23508921 b= 0.81642854\n",
      "Epoch: 0700 cost= 0.081328586 W= 0.23507847 b= 0.8165099\n",
      "Epoch: 0750 cost= 0.081328459 W= 0.23507333 b= 0.8165487\n",
      "Epoch: 0800 cost= 0.081328407 W= 0.23507033 b= 0.8165714\n",
      "Epoch: 0850 cost= 0.081328347 W= 0.23506883 b= 0.81658274\n",
      "Epoch: 0900 cost= 0.081328347 W= 0.23506817 b= 0.8165876\n",
      "Epoch: 0950 cost= 0.081328355 W= 0.23506787 b= 0.8165899\n",
      "Epoch: 1000 cost= 0.081328355 W= 0.23506787 b= 0.8165899\n",
      "Optimization Finished!\n",
      "Training cost= 0.081328355 W= 0.23506787 b= 0.8165899 \n",
      "\n"
     ]
    },
    {
     "data": {
      "image/png": "[encoded data removed]",
      "text/plain": [
       "<Figure size 432x288 with 1 Axes>"
      ]
     },
     "metadata": {
      "needs_background": "light"
     },
     "output_type": "display_data"
    }
   ],
   "source": [
    "# Start training\n",
    "with tf.Session() as sess:\n",
    "    sess.run(init)\n",
    "\n",
    "    # Fit all training data\n",
    "    for epoch in range(training_epochs):\n",
    "        for (x, y) in zip(train_X, train_Y):\n",
    "            sess.run(optimizer, feed_dict={X: x, Y: y})\n",
    "\n",
    "        #Display logs per epoch step\n",
    "        if (epoch+1) % display_step == 0:\n",
    "            c = sess.run(cost, feed_dict={X: train_X, Y:train_Y})\n",
    "            print(\"Epoch:\", '%04d' % (epoch+1), \"cost=\", \"{:.9f}\".format(c), \\\n",
    "               \"W=\", sess.run(W), \"b=\", sess.run(b))\n",
    "\n",
    "    #Graphic display\n",
    "    plt.plot(train_X, train_Y, 'ro', label='Original data')\n",
    "    plt.plot(train_X, sess.run(W) * train_X + sess.run(b), label='Fitted line')\n",
    "\n",
    "    print (\"Optimization Finished!\")\n",
    "    training_cost = sess.run(cost, feed_dict={X: train_X, Y: train_Y})\n",
    "    print (\"Training cost=\", training_cost, \"W=\", sess.run(W), \"b=\", sess.run(b), '\\n')"
   ]
  },
  {
   "cell_type": "code",
   "execution_count": null,
   "metadata": {},
   "outputs": [],
   "source": []
  }
 ],
 "metadata": {
  "kernelspec": {
   "display_name": "Python 3",
   "language": "python",
   "name": "python3"
  },
  "language_info": {
   "codemirror_mode": {
    "name": "ipython",
    "version": 3
   },
   "file_extension": ".py",
   "mimetype": "text/x-python",
   "name": "python",
   "nbconvert_exporter": "python",
   "pygments_lexer": "ipython3",
   "version": "3.7.1"
  }
 },
 "nbformat": 4,
 "nbformat_minor": 1
}
